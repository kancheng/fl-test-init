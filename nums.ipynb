{
 "cells": [
  {
   "cell_type": "markdown",
   "id": "86525ad8-9720-4f30-acf9-90a4cec0325f",
   "metadata": {},
   "source": [
    "# Python 把一个数分解为最接近的两个数的乘积（不是质数因子分解）\n",
    "\n",
    "## Reference\n",
    "\n",
    "- https://blog.csdn.net/qq_36607894/article/details/103595912\n",
    "\n",
    "## Code"
   ]
  },
  {
   "cell_type": "code",
   "execution_count": 1,
   "id": "83a8e006-c1ac-48f2-92cc-b0566192a019",
   "metadata": {},
   "outputs": [
    {
     "data": {
      "text/plain": [
       "(250, 256)"
      ]
     },
     "execution_count": 1,
     "metadata": {},
     "output_type": "execute_result"
    }
   ],
   "source": [
    "import numpy as np\n",
    "def crack(integer):\n",
    "    start = int(np.sqrt(integer))\n",
    "    factor = integer / start\n",
    "    while not is_integer(factor):\n",
    "        start += 1\n",
    "        factor = integer / start\n",
    "    return int(factor), start\n",
    "\n",
    "\n",
    "def is_integer(number):\n",
    "    if int(number) == number:\n",
    "        return True\n",
    "    else:\n",
    "        return False\n",
    "crack(64000)  # 250, 256"
   ]
  },
  {
   "cell_type": "code",
   "execution_count": 2,
   "id": "d52a39b9-49a4-4174-88a7-816545795c8f",
   "metadata": {},
   "outputs": [],
   "source": [
    "a, b = crack(64000)"
   ]
  },
  {
   "cell_type": "code",
   "execution_count": 3,
   "id": "e5f08f23-6af7-41e1-baab-b7c1892063a5",
   "metadata": {},
   "outputs": [
    {
     "name": "stdout",
     "output_type": "stream",
     "text": [
      "250\n",
      "256\n"
     ]
    }
   ],
   "source": [
    "print(a)\n",
    "print(b)"
   ]
  },
  {
   "cell_type": "code",
   "execution_count": null,
   "id": "30f59675-1055-4fa3-80cc-0c301e19b3ec",
   "metadata": {},
   "outputs": [],
   "source": []
  }
 ],
 "metadata": {
  "kernelspec": {
   "display_name": "Python 3 (ipykernel)",
   "language": "python",
   "name": "python3"
  },
  "language_info": {
   "codemirror_mode": {
    "name": "ipython",
    "version": 3
   },
   "file_extension": ".py",
   "mimetype": "text/x-python",
   "name": "python",
   "nbconvert_exporter": "python",
   "pygments_lexer": "ipython3",
   "version": "3.10.12"
  }
 },
 "nbformat": 4,
 "nbformat_minor": 5
}
